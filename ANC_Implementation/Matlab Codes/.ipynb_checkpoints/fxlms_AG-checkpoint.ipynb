{
 "cells": [
  {
   "cell_type": "code",
   "execution_count": 13,
   "id": "25c15f7b",
   "metadata": {},
   "outputs": [
    {
     "ename": "SyntaxError",
     "evalue": "invalid syntax (<ipython-input-13-bcf81f6989b1>, line 2)",
     "output_type": "error",
     "traceback": [
      "\u001b[1;36m  File \u001b[1;32m\"<ipython-input-13-bcf81f6989b1>\"\u001b[1;36m, line \u001b[1;32m2\u001b[0m\n\u001b[1;33m    conda update conda\u001b[0m\n\u001b[1;37m          ^\u001b[0m\n\u001b[1;31mSyntaxError\u001b[0m\u001b[1;31m:\u001b[0m invalid syntax\n"
     ]
    }
   ],
   "source": [
    "# !pip install ipython\n",
    "# conda update conda"
   ]
  },
  {
   "cell_type": "code",
   "execution_count": 48,
   "id": "e179cc72",
   "metadata": {},
   "outputs": [],
   "source": [
    "import numpy as np\n",
    "import pandas as pd\n",
    "import matplotlib.pyplot as plt\n",
    "from scipy import signal\n",
    "from tqdm.notebook import tqdm\n",
    "import scipy.io.wavfile as wav\n",
    "# from ipython import Audio\n",
    "# import pyroomacoustics as pra"
   ]
  },
  {
   "cell_type": "code",
   "execution_count": 49,
   "id": "f8884367",
   "metadata": {},
   "outputs": [
    {
     "name": "stdout",
     "output_type": "stream",
     "text": [
      "[]\n"
     ]
    }
   ],
   "source": [
    "T = 1000\n",
    "Pw = np.array([0.01,0.25,0.5,1,0.5,0.25,0.01])\n",
    "Sw = np.array([])\n",
    "for i in Pw:\n",
    "    Sw = Sw+np.array([i/4])\n",
    "print(Sw)"
   ]
  },
  {
   "cell_type": "code",
   "execution_count": 16,
   "id": "bdf0f1c3",
   "metadata": {},
   "outputs": [],
   "source": [
    "x_r = np.random.normal(size = T)\n",
    "y_r = np.convolve(Sw,x_r)\n",
    "# print(x_r)\n",
    "# print(y_r)"
   ]
  },
  {
   "cell_type": "code",
   "execution_count": 17,
   "id": "f7be8629",
   "metadata": {},
   "outputs": [],
   "source": [
    "M = 16\n",
    "x_temp = np.zeros(M)\n",
    "cw = np.zeros(M)\n",
    "err_s = np.zeros(T)\n",
    "mu = 0.1\n",
    "y_temp = np.zeros(T)"
   ]
  },
  {
   "cell_type": "code",
   "execution_count": 46,
   "id": "c2b9781f",
   "metadata": {},
   "outputs": [
    {
     "name": "stdout",
     "output_type": "stream",
     "text": [
      "[]\n"
     ]
    }
   ],
   "source": [
    "for k in range(0,T):\n",
    "    x = np.empty((0),int)\n",
    "    x_temp = [x_r[k]]+x_temp[0:15]\n",
    "    y_temp = np.sum(x_temp*cw)\n",
    "    err_s = y_r(k)-y_temp(k)\n",
    "    cw = cw + mu*err_s(k)*x_temp"
   ]
  },
  {
   "cell_type": "code",
   "execution_count": null,
   "id": "0b35956f",
   "metadata": {},
   "outputs": [],
   "source": [
    "# Plotting of the graphs done here for problem 1\n"
   ]
  },
  {
   "cell_type": "code",
   "execution_count": null,
   "id": "4c0509fb",
   "metadata": {},
   "outputs": [],
   "source": [
    "x_ref = np.random.normal(size=T)\n",
    "Yp = np.convolve(Pw,x_ref)"
   ]
  },
  {
   "cell_type": "code",
   "execution_count": null,
   "id": "202246fc",
   "metadata": {},
   "outputs": [],
   "source": [
    "N = 16\n",
    "temp_x_ref = np.zeros(N)\n",
    "W = np.zeros(N)\n",
    "temp_x_sec = np.zeros(size(Sw))\n",
    "err = np.zeros(T)\n",
    "temp_x_c = zeros(M)"
   ]
  },
  {
   "cell_type": "code",
   "execution_count": null,
   "id": "27ea9c7a",
   "metadata": {},
   "outputs": [],
   "source": [
    "mu = 0.1\n",
    "for k in range(T):\n",
    "    temp_x_ref = [x_ref(k)] + temp_x_ref[0:temp_x_ref.size()-1]\n",
    "    temp_y = sum(temp_x_ref*W)\n",
    "    temp_x_sec = [temp_y] + temp_x_sec[0:temp_x_sec.size()-1]\n",
    "    err(k) = Yp(k) - sum(temp_x_sec*Sw)\n",
    "    temp_x_c = [sum(temp_x_ref*cw)] + temp_x_c[0:temp_x_c.size()-1]\n",
    "    W = W + mu*err(k)*temp_x_c"
   ]
  },
  {
   "cell_type": "code",
   "execution_count": null,
   "id": "e23b25ff",
   "metadata": {},
   "outputs": [],
   "source": [
    "# Plotting of the graphs for problem 2"
   ]
  }
 ],
 "metadata": {
  "kernelspec": {
   "display_name": "Python 3",
   "language": "python",
   "name": "python3"
  },
  "language_info": {
   "codemirror_mode": {
    "name": "ipython",
    "version": 3
   },
   "file_extension": ".py",
   "mimetype": "text/x-python",
   "name": "python",
   "nbconvert_exporter": "python",
   "pygments_lexer": "ipython3",
   "version": "3.9.2"
  }
 },
 "nbformat": 4,
 "nbformat_minor": 5
}
